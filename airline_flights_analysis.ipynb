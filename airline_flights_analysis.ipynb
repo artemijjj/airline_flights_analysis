{
 "cells": [
  {
   "cell_type": "markdown",
   "metadata": {
    "toc": true
   },
   "source": [
    "<h1>Содержание<span class=\"tocSkip\"></span></h1>\n",
    "<div class=\"toc\"><ul class=\"toc-item\"><li><span><a href=\"#Аналитика\" data-toc-modified-id=\"Аналитика-1\"><span class=\"toc-item-num\">1&nbsp;&nbsp;</span>Аналитика</a></span></li><li><span><a href=\"#Чек-лист-проверки\" data-toc-modified-id=\"Чек-лист-проверки-2\"><span class=\"toc-item-num\">2&nbsp;&nbsp;</span>Чек-лист проверки</a></span></li></ul></div>"
   ]
  },
  {
   "cell_type": "markdown",
   "metadata": {},
   "source": [
    "# Спрос на рейсы авиакомпании"
   ]
  },
  {
   "cell_type": "markdown",
   "metadata": {},
   "source": [
    "Вы аналитик российской авиакомпании F9, выполняющей внутренние пассажирские перевозки. Важно понять предпочтения пользователей, покупающих билеты на разные направления.\n",
    "\n",
    "Вам предстоит изучить базу данных и проанализировать спрос пассажиров на рейсы в города, где проходят крупнейшие культурные фестивали."
   ]
  },
  {
   "cell_type": "markdown",
   "metadata": {},
   "source": [
    "У вас есть файлы с результатами запросов из предыдущих заданий.\n",
    "\n",
    "**query_1.csv** — результат первого запроса. В нём содержится такая информация:\n",
    "\n",
    "- *model* — **модель самолета;\n",
    "- *flights_amount* — количество рейсов для каждой модели самолетов *model* в сентябре 2018 года.\n",
    "\n",
    "**query_3.csv** — результат третьего запроса. В нём содержится такая информация:\n",
    "\n",
    "- *city* — город;\n",
    "- *average_flights* — среднее количество рейсов, прибывающих в город (*city*) за день в сентябре 2018 года.\n",
    "\n",
    " Для этих двух наборов данных нужно:\n",
    "\n",
    "- импортировать файлы;\n",
    "- изучить данные в них;\n",
    "- проверить типы данных на корректность;\n",
    "- выбрать топ-10 городов по количеству рейсов;\n",
    "- построить графики: модели самолётов и количество рейсов, города и количество рейсов, топ-10 городов и количество рейсов;\n",
    "- сделать выводы по каждому из графиков, пояснить результат.\n"
   ]
  },
  {
   "cell_type": "markdown",
   "metadata": {},
   "source": [
    "## Аналитика"
   ]
  },
  {
   "cell_type": "code",
   "execution_count": 1,
   "metadata": {},
   "outputs": [],
   "source": [
    "import numpy as np\n",
    "import pandas as pd\n",
    "import matplotlib.pyplot as plt\n",
    "from pyspark.sql import SparkSession"
   ]
  },
  {
   "cell_type": "markdown",
   "metadata": {},
   "source": [
    "Подгрузили необходимые библиотеки"
   ]
  },
  {
   "cell_type": "code",
   "execution_count": 2,
   "metadata": {},
   "outputs": [
    {
     "name": "stdout",
     "output_type": "stream",
     "text": [
      "DataFrame[model: string, flights_amount: bigint]\n",
      "DataFrame[city: string, average_flights: double]\n"
     ]
    }
   ],
   "source": [
    "APP_NAME = \"DataFrames\"\n",
    "SPARK_URL = \"local[*]\"\n",
    "\n",
    "spark = SparkSession.builder.appName(APP_NAME).getOrCreate()\n",
    "\n",
    "model_df = pd.read_csv('/datasets/query_1.csv')\n",
    "model = spark.createDataFrame(model_df)\n",
    "\n",
    "city_df = pd.read_csv('/datasets/query_3.csv')\n",
    "city = spark.createDataFrame(city_df)\n",
    "\n",
    "print(model)\n",
    "print(city)"
   ]
  },
  {
   "cell_type": "markdown",
   "metadata": {},
   "source": [
    "Загнали наши датасеты в PySpark\n",
    "\n",
    "Вроде бы все данные в допустимых форматах"
   ]
  },
  {
   "cell_type": "code",
   "execution_count": 3,
   "metadata": {},
   "outputs": [],
   "source": [
    "spark = SparkSession.builder.appName(APP_NAME) \\\n",
    "        .config('spark.ui.showConsoleProgress', 'false') \\\n",
    "        .getOrCreate()"
   ]
  },
  {
   "cell_type": "code",
   "execution_count": 4,
   "metadata": {},
   "outputs": [
    {
     "name": "stdout",
     "output_type": "stream",
     "text": [
      "+---------------+--------------+\n",
      "|          model|flights_amount|\n",
      "+---------------+--------------+\n",
      "|Airbus A319-100|           607|\n",
      "|Airbus A321-200|           960|\n",
      "| Boeing 737-300|           630|\n",
      "| Boeing 767-300|           600|\n",
      "| Boeing 777-300|           300|\n",
      "+---------------+--------------+\n",
      "only showing top 5 rows\n",
      "\n",
      "+-----------+------------------+\n",
      "|       city|   average_flights|\n",
      "+-----------+------------------+\n",
      "|     Абакан| 3.870967741935484|\n",
      "|    Анадырь|               1.0|\n",
      "|      Анапа| 2.161290322580645|\n",
      "|Архангельск| 5.354838709677419|\n",
      "|  Астрахань|2.4516129032258065|\n",
      "+-----------+------------------+\n",
      "only showing top 5 rows\n",
      "\n"
     ]
    }
   ],
   "source": [
    "model = spark.read.load('/datasets/query_1.csv', \n",
    "                       format='csv', header='true', inferSchema='true')\n",
    "\n",
    "city = spark.read.load('/datasets/query_3.csv', \n",
    "                       format='csv', header='true', inferSchema='true')\n",
    "\n",
    "model.show(5)\n",
    "city.show(5)"
   ]
  },
  {
   "cell_type": "markdown",
   "metadata": {},
   "source": [
    "Посмотрели значения в наших датафреймах. Все в пределах разумного"
   ]
  },
  {
   "cell_type": "code",
   "execution_count": 5,
   "metadata": {},
   "outputs": [
    {
     "name": "stdout",
     "output_type": "stream",
     "text": [
      "+-------+-------------------+------------------+\n",
      "|summary|              model|    flights_amount|\n",
      "+-------+-------------------+------------------+\n",
      "|  count|                  8|                 8|\n",
      "|   mean|               null|          2035.625|\n",
      "| stddev|               null|1965.2039470679445|\n",
      "|    min|    Airbus A319-100|               300|\n",
      "|    max|Sukhoi SuperJet-100|              4557|\n",
      "+-------+-------------------+------------------+\n",
      "\n",
      "None\n",
      "+-------+---------+-----------------+\n",
      "|summary|     city|  average_flights|\n",
      "+-------+---------+-----------------+\n",
      "|  count|      101|              101|\n",
      "|   mean|     null|5.494189113891766|\n",
      "| stddev|     null|13.11979040852178|\n",
      "|    min|   Абакан|              1.0|\n",
      "|    max|Ярославль|129.7741935483871|\n",
      "+-------+---------+-----------------+\n",
      "\n",
      "None\n"
     ]
    }
   ],
   "source": [
    "print(model.describe().show())\n",
    "print(city.describe().show())"
   ]
  },
  {
   "cell_type": "markdown",
   "metadata": {},
   "source": [
    "Пропуски не найдены. Только по какой-то причине максимальным значением у городов стал Ярославль, а не Москва. Странно\n",
    "\n",
    "Далее такая ошибка себя не проявила"
   ]
  },
  {
   "cell_type": "code",
   "execution_count": 6,
   "metadata": {},
   "outputs": [],
   "source": [
    "model.registerTempTable(\"model\")\n",
    "city.registerTempTable(\"city\")"
   ]
  },
  {
   "cell_type": "markdown",
   "metadata": {},
   "source": [
    "Регистрируем временные таблицы"
   ]
  },
  {
   "cell_type": "code",
   "execution_count": 7,
   "metadata": {},
   "outputs": [
    {
     "name": "stdout",
     "output_type": "stream",
     "text": [
      "+---------------+------------------+\n",
      "|           city|   average_flights|\n",
      "+---------------+------------------+\n",
      "|         Москва| 129.7741935483871|\n",
      "|Санкт-Петербург|31.161290322580644|\n",
      "|    Новосибирск|17.322580645161292|\n",
      "|     Красноярск|11.580645161290322|\n",
      "|   Екатеринбург| 11.32258064516129|\n",
      "| Ростов-на-Дону|10.193548387096774|\n",
      "|          Пермь|10.129032258064516|\n",
      "|         Брянск|              10.0|\n",
      "|           Сочи| 9.612903225806452|\n",
      "|      Ульяновск| 9.580645161290322|\n",
      "+---------------+------------------+\n",
      "\n",
      "None\n"
     ]
    }
   ],
   "source": [
    "city_top = spark.sql(\"SELECT city, average_flights FROM CITY ORDER BY average_flights DESC LIMIT 10\")\n",
    "print(city_top.show())"
   ]
  },
  {
   "cell_type": "markdown",
   "metadata": {},
   "source": [
    "Вывел топ-10 городов по среднему количеству с помощью SQL. Не очень понятно, требовалось ли это или можно было использовать обычный pandas\n",
    "\n",
    "Я не очень понял, как визуализировать DataFrame из Pyspark и взял выборки из обычного DataFrame, чтобы визуализировать. Самый малоизящный способ, пожалуй, но кроме барплота, который сюда четко вписывается, придумать ничего не получилось\n",
    "\n",
    "Если у тебя есть хорошая литература по вопросам визуализации, подкинь пожалуйста, потому что у меня в этом пробел, видимо"
   ]
  },
  {
   "cell_type": "code",
   "execution_count": 8,
   "metadata": {},
   "outputs": [
    {
     "data": {
      "image/png": "[encoded data removed]",
      "text/plain": [
       "<Figure size 432x288 with 1 Axes>"
      ]
     },
     "metadata": {
      "needs_background": "light"
     },
     "output_type": "display_data"
    }
   ],
   "source": [
    "city_top_df = city_df.sort_values(by='average_flights', ascending=False).head(10)\n",
    "city_top_df.plot(x='city', y='average_flights', kind='bar')\n",
    "plt.xlabel('Города')\n",
    "plt.ylabel('Среднее количество рейсов')\n",
    "plt.show()"
   ]
  },
  {
   "cell_type": "markdown",
   "metadata": {},
   "source": [
    "Естественно, самое большое среднее количество рейсов идет в городах милионниках, они и заняли первые места нашего топа. Если бы мы анализировали данные 2020-2021 год, на первое место поднялся бы Сочи"
   ]
  },
  {
   "cell_type": "code",
   "execution_count": 9,
   "metadata": {
    "scrolled": true
   },
   "outputs": [
    {
     "data": {
      "image/png": "[encoded data removed]",
      "text/plain": [
       "<Figure size 1080x288 with 1 Axes>"
      ]
     },
     "metadata": {
      "needs_background": "light"
     },
     "output_type": "display_data"
    }
   ],
   "source": [
    "(city_df.sort_values(by='average_flights', ascending=False)\n",
    "    .plot(x='city', y='average_flights', kind='bar', grid=True, figsize=(15,4)))\n",
    "plt.xlabel('Города')\n",
    "plt.ylabel('Среднее количество рейсов')\n",
    "plt.show()"
   ]
  },
  {
   "cell_type": "markdown",
   "metadata": {},
   "source": [
    "Как смогли растянули все возможные значения по городам. После пиков милионников, можно наблюдать очень равномерно размазанную картину значений"
   ]
  },
  {
   "cell_type": "code",
   "execution_count": 10,
   "metadata": {},
   "outputs": [
    {
     "data": {
      "image/png": "[encoded data removed]",
      "text/plain": [
       "<Figure size 432x288 with 1 Axes>"
      ]
     },
     "metadata": {
      "needs_background": "light"
     },
     "output_type": "display_data"
    }
   ],
   "source": [
    "model_df.plot(x='model', y='flights_amount', kind='bar')\n",
    "plt.xlabel('Модели самолетов')\n",
    "plt.ylabel('Количество рейсов')\n",
    "plt.show()"
   ]
  },
  {
   "cell_type": "markdown",
   "metadata": {},
   "source": [
    "Активнее всего летает самая маленькая Cessna. Скорее всего из-за доступности она является самым популярным региональным самолетом, возможно даже пользуется спросом у частников\n",
    "\n",
    "Чуть меньшие значения показывает Bombardier, следом идет чуть более вместительный Superjet\n",
    "\n",
    "Boeing и Airbus застряли в одной скромной вилке значений. Благодаря вместительности, вероятно, нет смысла организовывать сопоставимое с \"малышами\" количество рейсов"
   ]
  }
 ],
 "metadata": {
  "ExecuteTimeLog": [
   {
    "duration": 969,
    "start_time": "2021-06-08T18:09:57.749Z"
   },
   {
    "duration": 20427,
    "start_time": "2021-06-08T18:09:58.721Z"
   },
   {
    "duration": 7,
    "start_time": "2021-06-08T18:10:20.454Z"
   },
   {
    "duration": 8155,
    "start_time": "2021-06-08T18:10:21.479Z"
   },
   {
    "duration": 3477,
    "start_time": "2021-06-08T18:10:30.350Z"
   },
   {
    "duration": 380,
    "start_time": "2021-06-08T18:10:42.563Z"
   },
   {
    "duration": 847,
    "start_time": "2021-06-08T18:10:45.087Z"
   },
   {
    "duration": 33,
    "start_time": "2021-06-08T18:24:33.663Z"
   },
   {
    "duration": 89,
    "start_time": "2021-06-08T18:27:29.127Z"
   },
   {
    "duration": 385,
    "start_time": "2021-06-08T18:27:33.614Z"
   },
   {
    "duration": 503,
    "start_time": "2021-06-08T18:30:08.101Z"
   },
   {
    "duration": 452,
    "start_time": "2021-06-08T18:34:39.952Z"
   },
   {
    "duration": 265,
    "start_time": "2021-06-08T18:41:33.300Z"
   },
   {
    "duration": 8,
    "start_time": "2021-06-08T18:51:48.902Z"
   },
   {
    "duration": 9,
    "start_time": "2021-06-08T18:52:35.719Z"
   },
   {
    "duration": 9,
    "start_time": "2021-06-08T18:52:49.183Z"
   },
   {
    "duration": 9,
    "start_time": "2021-06-08T18:53:01.028Z"
   },
   {
    "duration": 300,
    "start_time": "2021-06-08T18:54:02.030Z"
   },
   {
    "duration": 283,
    "start_time": "2021-06-08T18:54:39.141Z"
   },
   {
    "duration": 312,
    "start_time": "2021-06-08T18:55:44.873Z"
   },
   {
    "duration": 413,
    "start_time": "2021-06-08T18:56:25.878Z"
   },
   {
    "duration": 288,
    "start_time": "2021-06-08T19:03:58.191Z"
   },
   {
    "duration": 271,
    "start_time": "2021-06-08T19:04:40.001Z"
   },
   {
    "duration": 301,
    "start_time": "2021-06-08T19:05:47.471Z"
   },
   {
    "duration": 262,
    "start_time": "2021-06-08T19:05:52.793Z"
   },
   {
    "duration": 325,
    "start_time": "2021-06-08T19:08:33.704Z"
   },
   {
    "duration": 370,
    "start_time": "2021-06-08T19:08:52.046Z"
   },
   {
    "duration": 221,
    "start_time": "2021-06-08T19:11:32.012Z"
   },
   {
    "duration": 2442,
    "start_time": "2021-06-08T19:11:48.528Z"
   },
   {
    "duration": 2687,
    "start_time": "2021-06-08T19:12:10.501Z"
   },
   {
    "duration": 2407,
    "start_time": "2021-06-08T19:12:20.058Z"
   },
   {
    "duration": 320,
    "start_time": "2021-06-08T19:20:30.208Z"
   },
   {
    "duration": 1117,
    "start_time": "2021-06-09T09:32:09.827Z"
   },
   {
    "duration": 20182,
    "start_time": "2021-06-09T09:32:10.948Z"
   },
   {
    "duration": 6,
    "start_time": "2021-06-09T09:32:31.134Z"
   },
   {
    "duration": 7211,
    "start_time": "2021-06-09T09:32:31.143Z"
   },
   {
    "duration": 3083,
    "start_time": "2021-06-09T09:32:38.356Z"
   },
   {
    "duration": 488,
    "start_time": "2021-06-09T09:32:41.442Z"
   },
   {
    "duration": 1223,
    "start_time": "2021-06-09T09:32:41.933Z"
   },
   {
    "duration": 615,
    "start_time": "2021-06-09T09:32:43.158Z"
   },
   {
    "duration": 2467,
    "start_time": "2021-06-09T09:32:43.776Z"
   },
   {
    "duration": 327,
    "start_time": "2021-06-09T09:32:46.245Z"
   },
   {
    "duration": 8783,
    "start_time": "2021-06-09T09:32:46.575Z"
   },
   {
    "duration": 477,
    "start_time": "2021-06-09T09:33:17.146Z"
   },
   {
    "duration": 1424,
    "start_time": "2021-06-09T09:33:26.165Z"
   },
   {
    "duration": 597,
    "start_time": "2021-06-09T09:34:54.812Z"
   },
   {
    "duration": 506,
    "start_time": "2021-06-09T09:35:12.867Z"
   }
  ],
  "kernelspec": {
   "display_name": "Python 3",
   "language": "python",
   "name": "python3"
  },
  "language_info": {
   "codemirror_mode": {
    "name": "ipython",
    "version": 3
   },
   "file_extension": ".py",
   "mimetype": "text/x-python",
   "name": "python",
   "nbconvert_exporter": "python",
   "pygments_lexer": "ipython3",
   "version": "3.8.8"
  },
  "toc": {
   "base_numbering": 1,
   "nav_menu": {},
   "number_sections": true,
   "sideBar": true,
   "skip_h1_title": true,
   "title_cell": "Содержание",
   "title_sidebar": "Contents",
   "toc_cell": true,
   "toc_position": {
    "height": "calc(100% - 180px)",
    "left": "10px",
    "top": "150px",
    "width": "164.988px"
   },
   "toc_section_display": true,
   "toc_window_display": true
  }
 },
 "nbformat": 4,
 "nbformat_minor": 2
}
